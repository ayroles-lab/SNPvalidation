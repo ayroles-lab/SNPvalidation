{
 "cells": [
  {
   "cell_type": "markdown",
   "metadata": {},
   "source": [
    "# Simple notebook for analyzing midway cis-eQTL effect on longevity"
   ]
  },
  {
   "cell_type": "code",
   "execution_count": 199,
   "metadata": {},
   "outputs": [],
   "source": [
    "import pandas as pd\n",
    "\n",
    "# Read the input data into a Pandas DataFrame\n",
    "data = pd.read_csv(\"../data/longevity_luisa.csv\")"
   ]
  },
  {
   "cell_type": "code",
   "execution_count": 200,
   "metadata": {},
   "outputs": [],
   "source": [
    "output = {}\n",
    "indiv_id = 0\n",
    "\n",
    "for col in data.columns[1::]:\n",
    "    output[col] = {}\n",
    "    for idx, row in data[[\"Day\", col]].iterrows():\n",
    "        if idx == 0:\n",
    "            prev_day = data[\"Day\"][idx]\n",
    "            split_mf = row[1].split(\"/\")\n",
    "            prev_m = int(split_mf[0])\n",
    "            prev_f = int(split_mf[1])\n",
    "            continue\n",
    "\n",
    "        split_mf = row[1].split(\"/\")\n",
    "        m = int(split_mf[0])\n",
    "        f = int(split_mf[1])\n",
    "\n",
    "        new_m = m\n",
    "        new_f = f\n",
    "\n",
    "        while m < prev_m:\n",
    "            output[indiv_id] = {\n",
    "                \"genotype\": col.split(\" \")[0],\n",
    "                \"source\": col,\n",
    "                \"day\": prev_day,\n",
    "                \"sex\": \"m\",\n",
    "                \"lifespan\": prev_day,\n",
    "                \"annotator\": \"luisa\",\n",
    "            }\n",
    "            indiv_id += 1\n",
    "            m += 1\n",
    "\n",
    "        while f < prev_f:\n",
    "            output[indiv_id] = {\n",
    "                \"genotype\": col.split(\" \")[0],\n",
    "                \"source\": col,\n",
    "                \"day\": prev_day,\n",
    "                \"sex\": \"f\",\n",
    "                \"lifespan\": prev_day,\n",
    "                \"annotator\": \"luisa\",\n",
    "            }\n",
    "            indiv_id += 1\n",
    "            f += 1\n",
    "\n",
    "        prev_f = new_f\n",
    "        prev_m = new_m\n",
    "        prev_day = row[0]"
   ]
  },
  {
   "cell_type": "code",
   "execution_count": 201,
   "metadata": {},
   "outputs": [],
   "source": [
    "luisa_df = pd.DataFrame.from_dict(output, orient=\"index\")"
   ]
  },
  {
   "cell_type": "code",
   "execution_count": 202,
   "metadata": {},
   "outputs": [],
   "source": [
    "data = pd.read_csv(\"../data/longevity_amanda.csv\")"
   ]
  },
  {
   "cell_type": "code",
   "execution_count": 203,
   "metadata": {},
   "outputs": [],
   "source": [
    "output = {}\n",
    "indiv_id = 0\n",
    "\n",
    "for col in data.columns[1::]:\n",
    "    output[col] = {}\n",
    "    for idx, row in data[[\"Day\", col]].iterrows():\n",
    "        if idx == 0:\n",
    "            prev_day = data[\"Day\"][idx]\n",
    "            split_mf = row[1].split(\"/\")\n",
    "            prev_m = int(split_mf[0])\n",
    "            prev_f = int(split_mf[1])\n",
    "            continue\n",
    "\n",
    "        split_mf = row[1].split(\"/\")\n",
    "        m = int(split_mf[0])\n",
    "        f = int(split_mf[1])\n",
    "\n",
    "        day = row[0]\n",
    "        new_m = m\n",
    "        new_f = f\n",
    "\n",
    "        while m < prev_m:\n",
    "            output[indiv_id] = {\n",
    "                \"genotype\": col.split(\" \")[0],\n",
    "                \"source\": col,\n",
    "                \"day\": prev_day,\n",
    "                \"sex\": \"m\",\n",
    "                \"lifespan\": prev_day,\n",
    "                \"annotator\": \"amanda\",\n",
    "            }\n",
    "            indiv_id += 1\n",
    "            m += 1\n",
    "\n",
    "        while f < prev_f:\n",
    "            output[indiv_id] = {\n",
    "                \"genotype\": col.split(\" \")[0],\n",
    "                \"source\": col,\n",
    "                \"day\": prev_day,\n",
    "                \"sex\": \"f\",\n",
    "                \"lifespan\": prev_day,\n",
    "                \"annotator\": \"amanda\",\n",
    "            }\n",
    "            indiv_id += 1\n",
    "            f += 1\n",
    "\n",
    "        prev_f = new_f\n",
    "        prev_m = new_m\n",
    "        prev_day = row[0]"
   ]
  },
  {
   "cell_type": "code",
   "execution_count": 204,
   "metadata": {},
   "outputs": [],
   "source": [
    "amanda_df = pd.DataFrame.from_dict(output, orient=\"index\")"
   ]
  },
  {
   "cell_type": "code",
   "execution_count": 205,
   "metadata": {},
   "outputs": [
    {
     "name": "stderr",
     "output_type": "stream",
     "text": [
      "/var/folders/ny/6zf1tq6n1cb0l7g7ryxbzm0h0000gn/T/ipykernel_2882/3616093910.py:7: FutureWarning: The frame.append method is deprecated and will be removed from pandas in a future version. Use pandas.concat instead.\n",
      "  merged_df = merged_df.append(pd.Series(new_row, index=merged_df.columns[:len(new_row)]), ignore_index=True)\n",
      "/var/folders/ny/6zf1tq6n1cb0l7g7ryxbzm0h0000gn/T/ipykernel_2882/3616093910.py:9: FutureWarning: The frame.append method is deprecated and will be removed from pandas in a future version. Use pandas.concat instead.\n",
      "  merged_df = merged_df.append(pd.Series(new_row, index=merged_df.columns[:len(new_row)]), ignore_index=True)\n"
     ]
    }
   ],
   "source": [
    "merged_df = pd.concat([luisa_df, amanda_df])\n",
    "merged_df.reset_index(inplace=True)\n",
    "\n",
    "# Group as needed\n",
    "merged_df[\"group\"] = merged_df[\"genotype\"].apply(\n",
    "    lambda x: \"control\" if x != \"Midway\" else \"midway\"\n",
    ")\n",
    "merged_df[\"censored\"] = False\n",
    "merged_df[\"death\"] = True\n",
    "\n",
    "# Append two rows for individuals where we didn't observe their death\n",
    "new_row = [299, \"R181\", \"R181 1-C\", 80, \"f\", 80, \"amanda\", \"control\", True, False]\n",
    "merged_df = merged_df.append(\n",
    "    pd.Series(new_row, index=merged_df.columns[: len(new_row)]), ignore_index=True\n",
    ")\n",
    "new_row = [300, \"R181\", \"R181 1-C\", 80, \"f\", 80, \"amanda\", \"control\", True, False]\n",
    "merged_df = merged_df.append(\n",
    "    pd.Series(new_row, index=merged_df.columns[: len(new_row)]), ignore_index=True\n",
    ")"
   ]
  },
  {
   "cell_type": "code",
   "execution_count": 206,
   "metadata": {},
   "outputs": [],
   "source": [
    "# Update the row where an individual escapes\n",
    "merged_df.loc[\n",
    "    merged_df[\n",
    "        (merged_df[\"lifespan\"] == 54)\n",
    "        & (merged_df[\"sex\"] == \"m\")\n",
    "        & (merged_df[\"source\"] == \"R181 2-C\")\n",
    "        & (merged_df[\"annotator\"] == \"luisa\")\n",
    "    ].index[0],\n",
    "    \"censored\",\n",
    "] = True\n",
    "merged_df.loc[\n",
    "    merged_df[\n",
    "        (merged_df[\"lifespan\"] == 54)\n",
    "        & (merged_df[\"sex\"] == \"m\")\n",
    "        & (merged_df[\"source\"] == \"R181 2-C\")\n",
    "        & (merged_df[\"annotator\"] == \"luisa\")\n",
    "    ].index[0],\n",
    "    \"death\",\n",
    "] = False"
   ]
  },
  {
   "cell_type": "code",
   "execution_count": 207,
   "metadata": {},
   "outputs": [
    {
     "data": {
      "text/html": [
       "<div>\n",
       "<style scoped>\n",
       "    .dataframe tbody tr th:only-of-type {\n",
       "        vertical-align: middle;\n",
       "    }\n",
       "\n",
       "    .dataframe tbody tr th {\n",
       "        vertical-align: top;\n",
       "    }\n",
       "\n",
       "    .dataframe thead th {\n",
       "        text-align: right;\n",
       "    }\n",
       "</style>\n",
       "<table border=\"1\" class=\"dataframe\">\n",
       "  <thead>\n",
       "    <tr style=\"text-align: right;\">\n",
       "      <th></th>\n",
       "      <th>index</th>\n",
       "      <th>genotype</th>\n",
       "      <th>source</th>\n",
       "      <th>day</th>\n",
       "      <th>sex</th>\n",
       "      <th>lifespan</th>\n",
       "      <th>annotator</th>\n",
       "      <th>group</th>\n",
       "      <th>censored</th>\n",
       "      <th>death</th>\n",
       "    </tr>\n",
       "  </thead>\n",
       "  <tbody>\n",
       "    <tr>\n",
       "      <th>47</th>\n",
       "      <td>47</td>\n",
       "      <td>R181</td>\n",
       "      <td>R181 2-C</td>\n",
       "      <td>54</td>\n",
       "      <td>m</td>\n",
       "      <td>54</td>\n",
       "      <td>luisa</td>\n",
       "      <td>control</td>\n",
       "      <td>True</td>\n",
       "      <td>False</td>\n",
       "    </tr>\n",
       "    <tr>\n",
       "      <th>298</th>\n",
       "      <td>299</td>\n",
       "      <td>R181</td>\n",
       "      <td>R181 1-C</td>\n",
       "      <td>80</td>\n",
       "      <td>f</td>\n",
       "      <td>80</td>\n",
       "      <td>amanda</td>\n",
       "      <td>control</td>\n",
       "      <td>True</td>\n",
       "      <td>False</td>\n",
       "    </tr>\n",
       "    <tr>\n",
       "      <th>299</th>\n",
       "      <td>300</td>\n",
       "      <td>R181</td>\n",
       "      <td>R181 1-C</td>\n",
       "      <td>80</td>\n",
       "      <td>f</td>\n",
       "      <td>80</td>\n",
       "      <td>amanda</td>\n",
       "      <td>control</td>\n",
       "      <td>True</td>\n",
       "      <td>False</td>\n",
       "    </tr>\n",
       "  </tbody>\n",
       "</table>\n",
       "</div>"
      ],
      "text/plain": [
       "     index genotype    source  day sex  lifespan annotator    group  censored  \\\n",
       "47      47     R181  R181 2-C   54   m        54     luisa  control      True   \n",
       "298    299     R181  R181 1-C   80   f        80    amanda  control      True   \n",
       "299    300     R181  R181 1-C   80   f        80    amanda  control      True   \n",
       "\n",
       "     death  \n",
       "47   False  \n",
       "298  False  \n",
       "299  False  "
      ]
     },
     "execution_count": 207,
     "metadata": {},
     "output_type": "execute_result"
    }
   ],
   "source": [
    "# Make sure we are censoring the right rows!\n",
    "merged_df[merged_df[\"censored\"] == True]"
   ]
  },
  {
   "cell_type": "code",
   "execution_count": 208,
   "metadata": {},
   "outputs": [],
   "source": [
    "import statsmodels.api as sm\n",
    "from statsmodels.duration.hazard_regression import PHReg"
   ]
  },
  {
   "cell_type": "code",
   "execution_count": 209,
   "metadata": {},
   "outputs": [],
   "source": [
    "surv_df = merged_df"
   ]
  },
  {
   "cell_type": "code",
   "execution_count": 210,
   "metadata": {},
   "outputs": [],
   "source": [
    "midway_00 = surv_df[surv_df[\"group\"] == \"control\"]\n",
    "midway_11 = surv_df[surv_df[\"group\"] == \"midway\"]"
   ]
  },
  {
   "cell_type": "code",
   "execution_count": 211,
   "metadata": {},
   "outputs": [
    {
     "name": "stderr",
     "output_type": "stream",
     "text": [
      "/var/folders/ny/6zf1tq6n1cb0l7g7ryxbzm0h0000gn/T/ipykernel_2882/715242541.py:1: SettingWithCopyWarning: \n",
      "A value is trying to be set on a copy of a slice from a DataFrame\n",
      "\n",
      "See the caveats in the documentation: https://pandas.pydata.org/pandas-docs/stable/user_guide/indexing.html#returning-a-view-versus-a-copy\n",
      "  midway_00.sort_values(by=['lifespan'], inplace=True)\n"
     ]
    }
   ],
   "source": [
    "midway_00.sort_values(by=[\"lifespan\"], inplace=True)"
   ]
  },
  {
   "cell_type": "code",
   "execution_count": 212,
   "metadata": {},
   "outputs": [
    {
     "data": {
      "text/plain": [
       "index             72\n",
       "genotype          CS\n",
       "source        CS 2-C\n",
       "day               47\n",
       "sex                m\n",
       "lifespan          47\n",
       "annotator     amanda\n",
       "group        control\n",
       "censored       False\n",
       "death           True\n",
       "Name: 222, dtype: object"
      ]
     },
     "execution_count": 212,
     "metadata": {},
     "output_type": "execute_result"
    }
   ],
   "source": [
    "midway_00.iloc[119]"
   ]
  },
  {
   "cell_type": "code",
   "execution_count": 213,
   "metadata": {},
   "outputs": [],
   "source": [
    "sf_00 = sm.SurvfuncRight(midway_00[\"lifespan\"], midway_00[\"death\"])\n",
    "sf_11 = sm.SurvfuncRight(midway_11[\"lifespan\"], midway_11[\"death\"])"
   ]
  },
  {
   "cell_type": "code",
   "execution_count": 218,
   "metadata": {},
   "outputs": [
    {
     "data": {
      "text/html": [
       "<table class=\"simpletable\">\n",
       "<tr>\n",
       "        <td>Model:</td>         <td>PH Reg</td>  <td>Sample size:</td> <td>300</td>\n",
       "</tr>\n",
       "<tr>\n",
       "  <td>Dependent variable:</td> <td>lifespan</td> <td>Num. events:</td> <td>297</td>\n",
       "</tr>\n",
       "<tr>\n",
       "         <td>Ties:</td>         <td>Breslow</td>       <td></td>        <td></td>  \n",
       "</tr>\n",
       "</table>\n",
       "<table class=\"simpletable\">\n",
       "<tr>\n",
       "       <td></td>       <th>log HR</th> <th>log HR SE</th>   <th>HR</th>      <th>t</th>    <th>P>|t|</th> <th>[0.025</th> <th>0.975]</th>\n",
       "</tr>\n",
       "<tr>\n",
       "  <th>C(sex)[T.m]</th> <td>0.0399</td>  <td>0.1182</td>   <td>1.0407</td> <td>0.3374</td> <td>0.7358</td> <td>0.8255</td> <td>1.3119</td>\n",
       "</tr>\n",
       "</table>"
      ],
      "text/plain": [
       "<class 'statsmodels.iolib.summary2.Summary'>\n",
       "\"\"\"\n",
       "                        Results: PHReg\n",
       "===============================================================\n",
       "Model:                    PH Reg         Sample size:       300\n",
       "Dependent variable:       lifespan       Num. events:       297\n",
       "Ties:                     Breslow                              \n",
       "---------------------------------------------------------------\n",
       "            log HR log HR SE   HR     t    P>|t|  [0.025 0.975]\n",
       "---------------------------------------------------------------\n",
       "C(sex)[T.m] 0.0399    0.1182 1.0407 0.3374 0.7358 0.8255 1.3119\n",
       "===============================================================\n",
       "Confidence intervals are for the hazard ratios\n",
       "\"\"\""
      ]
     },
     "execution_count": 218,
     "metadata": {},
     "output_type": "execute_result"
    }
   ],
   "source": [
    "results = PHReg.from_formula(\n",
    "    \"lifespan ~ C(sex) + C(group)\", data=surv_df, status=\"death\"\n",
    ").fit()\n",
    "results.summary()"
   ]
  }
 ],
 "metadata": {
  "kernelspec": {
   "display_name": ".venv",
   "language": "python",
   "name": "python3"
  },
  "language_info": {
   "codemirror_mode": {
    "name": "ipython",
    "version": 3
   },
   "file_extension": ".py",
   "mimetype": "text/x-python",
   "name": "python",
   "nbconvert_exporter": "python",
   "pygments_lexer": "ipython3",
   "version": "3.11.1"
  },
  "orig_nbformat": 4,
  "vscode": {
   "interpreter": {
    "hash": "5bb88390cbd52b2ed51d45682a9d644cf6600e715c4d10f84cacdb4a75315cbd"
   }
  }
 },
 "nbformat": 4,
 "nbformat_minor": 2
}
